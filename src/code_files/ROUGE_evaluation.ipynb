{
 "cells": [
  {
   "cell_type": "code",
   "execution_count": 1,
   "metadata": {},
   "outputs": [
    {
     "name": "stdout",
     "output_type": "stream",
     "text": [
      "Requirement already satisfied: rouge-score in c:\\users\\shama\\appdata\\local\\programs\\python\\python312\\lib\\site-packages (0.1.2)Note: you may need to restart the kernel to use updated packages.\n",
      "\n",
      "Requirement already satisfied: pandas in c:\\users\\shama\\appdata\\local\\programs\\python\\python312\\lib\\site-packages (2.2.2)\n",
      "Requirement already satisfied: absl-py in c:\\users\\shama\\appdata\\local\\programs\\python\\python312\\lib\\site-packages (from rouge-score) (2.1.0)\n",
      "Requirement already satisfied: nltk in c:\\users\\shama\\appdata\\local\\programs\\python\\python312\\lib\\site-packages (from rouge-score) (3.8.1)\n",
      "Requirement already satisfied: numpy in c:\\users\\shama\\appdata\\local\\programs\\python\\python312\\lib\\site-packages (from rouge-score) (1.26.4)\n",
      "Requirement already satisfied: six>=1.14.0 in c:\\users\\shama\\appdata\\local\\programs\\python\\python312\\lib\\site-packages (from rouge-score) (1.16.0)\n",
      "Requirement already satisfied: python-dateutil>=2.8.2 in c:\\users\\shama\\appdata\\local\\programs\\python\\python312\\lib\\site-packages (from pandas) (2.8.2)\n",
      "Requirement already satisfied: pytz>=2020.1 in c:\\users\\shama\\appdata\\local\\programs\\python\\python312\\lib\\site-packages (from pandas) (2024.1)\n",
      "Requirement already satisfied: tzdata>=2022.7 in c:\\users\\shama\\appdata\\local\\programs\\python\\python312\\lib\\site-packages (from pandas) (2024.1)\n",
      "Requirement already satisfied: click in c:\\users\\shama\\appdata\\local\\programs\\python\\python312\\lib\\site-packages (from nltk->rouge-score) (8.1.7)\n",
      "Requirement already satisfied: joblib in c:\\users\\shama\\appdata\\local\\programs\\python\\python312\\lib\\site-packages (from nltk->rouge-score) (1.4.0)\n",
      "Requirement already satisfied: regex>=2021.8.3 in c:\\users\\shama\\appdata\\local\\programs\\python\\python312\\lib\\site-packages (from nltk->rouge-score) (2023.12.25)\n",
      "Requirement already satisfied: tqdm in c:\\users\\shama\\appdata\\local\\programs\\python\\python312\\lib\\site-packages (from nltk->rouge-score) (4.66.2)\n",
      "Requirement already satisfied: colorama in c:\\users\\shama\\appdata\\local\\programs\\python\\python312\\lib\\site-packages (from click->nltk->rouge-score) (0.4.6)\n"
     ]
    },
    {
     "name": "stderr",
     "output_type": "stream",
     "text": [
      "\n",
      "[notice] A new release of pip is available: 24.0 -> 24.1.2\n",
      "[notice] To update, run: python.exe -m pip install --upgrade pip\n"
     ]
    }
   ],
   "source": [
    "%pip install rouge-score pandas\n",
    "from rouge_score import rouge_scorer,scoring"
   ]
  },
  {
   "cell_type": "markdown",
   "metadata": {},
   "source": [
    "1 _SIMILAR"
   ]
  },
  {
   "cell_type": "code",
   "execution_count": 1,
   "metadata": {},
   "outputs": [
    {
     "name": "stdout",
     "output_type": "stream",
     "text": [
      "Total targets extracted: 150\n",
      "Example targets: ['How can i get rid of a lower lip birthmark permanently?', 'Is Magnesium Silicofluoride safe for people?', 'Could RhoGAM damage the baby?', 'Could hydroxychloroquine and methotrexate make me sweat? ', 'Is there a relationship between Gadolinium and Multiple Chemical Sensitivity?']\n"
     ]
    }
   ],
   "source": [
    "import json\n",
    "import os\n",
    "\n",
    "# Directory containing our JSONL format text files\n",
    "folder_name = '/data/chq/generated_files'\n",
    "next_folder_name = '1_output_similar_samples'\n",
    "\n",
    "\n",
    "# Join the folder and file names to create a full path\n",
    "directory = os.path.join(folder_name, next_folder_name)\n",
    "\n",
    "\n",
    "# List to store all targets\n",
    "all_targets = []\n",
    "\n",
    "# Find all files in the directory that match the pattern 'similar_samples_<number>.txt'\n",
    "file_list = [filename for filename in os.listdir(directory) if filename.startswith('similar_samples_') and filename.endswith('.txt')]\n",
    "\n",
    "# Sort the file list based on the numeric part\n",
    "file_list.sort(key=lambda x: int(x.split('_')[2].split('.')[0]))\n",
    "\n",
    "# Iterate through each file in the sorted list\n",
    "for filename in file_list:\n",
    "    file_path = os.path.join(directory, filename)\n",
    "    # Open the file and read line by line\n",
    "    with open(file_path, 'r', encoding='utf-8') as file:\n",
    "        for line in file:\n",
    "            # Parse each line as JSON\n",
    "            json_obj = json.loads(line)\n",
    "            \n",
    "            # Check if the object is of type 'TEST_ENTRY'\n",
    "            if json_obj[\"type\"] == \"TEST_ENTRY\":\n",
    "                # Extract the 'target' part\n",
    "                target_text = json_obj[\"data\"][\"target\"]\n",
    "                # Append to the list of all targets\n",
    "                all_targets.append(target_text)\n",
    "\n",
    "# Print or use `all_targets` as needed\n",
    "print(\"Total targets extracted:\", len(all_targets))\n",
    "print(\"Example targets:\", all_targets[:5])  # Print first 5 targets as an example\n"
   ]
  },
  {
   "cell_type": "code",
   "execution_count": 2,
   "metadata": {},
   "outputs": [],
   "source": [
    "reference_summaries = all_targets"
   ]
  },
  {
   "cell_type": "code",
   "execution_count": 3,
   "metadata": {},
   "outputs": [],
   "source": [
    "# File containing generated summaries\n",
    "folder_name = '/data/chq/generated_files'\n",
    "file_name = 'LLaMa2_7b_1_Similar.txt'\n",
    "\n",
    "# Join the folder and file names to create a full path\n",
    "generated_file_path = os.path.join(folder_name, file_name)\n",
    "\n",
    "generated_summaries = []\n",
    "\n",
    "# Read the file and extract summaries from lines divisible by 4 (0-based index)\n",
    "with open(generated_file_path, 'r', encoding='utf-8') as file:\n",
    "    lines = file.readlines()\n",
    "    for i in range(0, len(lines), 3):\n",
    "        generated_summary = lines[i].strip()  # Assuming summary is in the first line of each group\n",
    "        generated_summaries.append(generated_summary)\n"
   ]
  },
  {
   "cell_type": "code",
   "execution_count": 4,
   "metadata": {},
   "outputs": [],
   "source": [
    "import os\n",
    "from rouge_score import rouge_scorer, scoring\n",
    "\n",
    "# Function to calculate ROUGE scores\n",
    "def calculate_rouge(hypotheses, references):\n",
    "    scorer = rouge_scorer.RougeScorer(['rouge1', 'rouge2', 'rougeL'], use_stemmer=True)\n",
    "    aggregator = scoring.BootstrapAggregator()\n",
    "\n",
    "    for hyp, ref in zip(hypotheses, references):\n",
    "        scores = scorer.score(ref, hyp)\n",
    "        aggregator.add_scores(scores)\n",
    "\n",
    "    result = aggregator.aggregate()\n",
    "    return result\n",
    "\n"
   ]
  },
  {
   "cell_type": "code",
   "execution_count": 5,
   "metadata": {},
   "outputs": [
    {
     "name": "stdout",
     "output_type": "stream",
     "text": [
      "Global ROUGE scores:\n",
      "ROUGE-1: 0.23925568031382685\n",
      "ROUGE-2: 0.0705656642240606\n",
      "ROUGE-L: 0.2114449813368433\n"
     ]
    }
   ],
   "source": [
    "\n",
    "global_rouge_scores = calculate_rouge(generated_summaries, reference_summaries)\n",
    "print(\"Global ROUGE scores:\")\n",
    "# print(f\"ROUGE-1: {global_rouge_scores['rouge1'].mid.fmeasure}\")\n",
    "# print(f\"ROUGE-2: {global_rouge_scores['rouge2'].mid.fmeasure}\")\n",
    "# print(f\"ROUGE-L: {global_rouge_scores['rougeL'].mid.fmeasure}\")\n",
    "\n",
    "print(f\"ROUGE-1: {global_rouge_scores['rouge1'].mid.fmeasure}\")\n",
    "print(f\"ROUGE-2: {global_rouge_scores['rouge2'].mid.fmeasure}\")\n",
    "print(f\"ROUGE-L: {global_rouge_scores['rougeL'].mid.fmeasure}\")"
   ]
  },
  {
   "cell_type": "markdown",
   "metadata": {},
   "source": [
    "2_SIMILAR"
   ]
  },
  {
   "cell_type": "code",
   "execution_count": 6,
   "metadata": {},
   "outputs": [
    {
     "name": "stdout",
     "output_type": "stream",
     "text": [
      "Total targets extracted: 150\n",
      "Example targets: ['How can i get rid of a lower lip birthmark permanently?', 'Is Magnesium Silicofluoride safe for people?', 'Could RhoGAM damage the baby?', 'Could hydroxychloroquine and methotrexate make me sweat? ', 'Is there a relationship between Gadolinium and Multiple Chemical Sensitivity?']\n"
     ]
    }
   ],
   "source": [
    "import json\n",
    "import os\n",
    "\n",
    "# Directory containing your JSONL format text files\n",
    "folder_name = '/data/chq/generated_files'\n",
    "next_folder_name = '2_output_similar_samples'\n",
    "\n",
    "\n",
    "# Join the folder and file names to create a full path\n",
    "directory = os.path.join(folder_name, next_folder_name)\n",
    "\n",
    "# List to store all targets\n",
    "all_targets = []\n",
    "\n",
    "# Find all files in the directory that match the pattern 'similar_samples_<number>.txt'\n",
    "file_list = [filename for filename in os.listdir(directory) if filename.startswith('similar_samples_') and filename.endswith('.txt')]\n",
    "\n",
    "# Sort the file list based on the numeric part\n",
    "file_list.sort(key=lambda x: int(x.split('_')[2].split('.')[0]))\n",
    "\n",
    "# Iterate through each file in the sorted list\n",
    "for filename in file_list:\n",
    "    file_path = os.path.join(directory, filename)\n",
    "    # Open the file and read line by line\n",
    "    with open(file_path, 'r', encoding='utf-8') as file:\n",
    "        for line in file:\n",
    "            # Parse each line as JSON\n",
    "            json_obj = json.loads(line)\n",
    "            \n",
    "            # Check if the object is of type 'TEST_ENTRY'\n",
    "            if json_obj[\"type\"] == \"TEST_ENTRY\":\n",
    "                # Extract the 'target' part\n",
    "                target_text = json_obj[\"data\"][\"target\"]\n",
    "                # Append to the list of all targets\n",
    "                all_targets.append(target_text)\n",
    "\n",
    "# Print or use `all_targets` as needed\n",
    "print(\"Total targets extracted:\", len(all_targets))\n",
    "print(\"Example targets:\", all_targets[:5])  # Print first 5 targets as an example\n"
   ]
  },
  {
   "cell_type": "code",
   "execution_count": 7,
   "metadata": {},
   "outputs": [],
   "source": [
    "reference_summaries = all_targets"
   ]
  },
  {
   "cell_type": "code",
   "execution_count": 8,
   "metadata": {},
   "outputs": [
    {
     "name": "stdout",
     "output_type": "stream",
     "text": [
      "['What are the treatments for a birthmark on the lower lip?', 'Is there a health risk to using magnesium silicofluoride in the treatment of moth infestation?', '\"Is pregnancy following injection of Rogam to women of Rh- blood group more likely to have a seriously ill child with mental health problems or any other health issues? \"', 'Could hydroxychloroquine from your doctor cause sweating?', 'What treatments exist to treat gadolinium toxicity?']\n"
     ]
    }
   ],
   "source": [
    "# File containing generated summaries\n",
    "folder_name = '/data/chq/generated_files'\n",
    "file_name = 'LLaMa2_7b_2_Similar.txt'\n",
    "\n",
    "# Join the folder and file names to create a full path\n",
    "generated_file_path = os.path.join(folder_name, file_name)\n",
    "\n",
    "generated_summaries = []\n",
    "\n",
    "# Read the file and extract summaries from lines divisible by 4 (0-based index)\n",
    "with open(generated_file_path, 'r', encoding='utf-8') as file:\n",
    "    lines = file.readlines()\n",
    "    for i in range(0, len(lines), 3):\n",
    "        generated_summary = lines[i].strip()  # Assuming summary is in the first line of each group\n",
    "        generated_summaries.append(generated_summary)\n",
    "    print(generated_summaries[:5])\n"
   ]
  },
  {
   "cell_type": "code",
   "execution_count": 9,
   "metadata": {},
   "outputs": [
    {
     "name": "stdout",
     "output_type": "stream",
     "text": [
      "Global ROUGE scores:\n",
      "ROUGE-1: 0.2850352024839286\n",
      "ROUGE-2: 0.10218252711243328\n",
      "ROUGE-L: 0.25968644805526275\n"
     ]
    }
   ],
   "source": [
    "global_rouge_scores = calculate_rouge(generated_summaries, reference_summaries)\n",
    "print(\"Global ROUGE scores:\")\n",
    "# print(f\"ROUGE-1: {global_rouge_scores['rouge1'].mid.fmeasure}\")\n",
    "# print(f\"ROUGE-2: {global_rouge_scores['rouge2'].mid.fmeasure}\")\n",
    "# print(f\"ROUGE-L: {global_rouge_scores['rougeL'].mid.fmeasure}\")\n",
    "\n",
    "print(f\"ROUGE-1: {global_rouge_scores['rouge1'].mid.fmeasure}\")\n",
    "print(f\"ROUGE-2: {global_rouge_scores['rouge2'].mid.fmeasure}\")\n",
    "print(f\"ROUGE-L: {global_rouge_scores['rougeL'].mid.fmeasure}\")"
   ]
  },
  {
   "cell_type": "markdown",
   "metadata": {},
   "source": []
  },
  {
   "cell_type": "markdown",
   "metadata": {},
   "source": [
    "\n",
    "4_SIMILAR"
   ]
  },
  {
   "cell_type": "code",
   "execution_count": 13,
   "metadata": {},
   "outputs": [
    {
     "name": "stdout",
     "output_type": "stream",
     "text": [
      "Total targets extracted: 150\n",
      "Example targets: ['How can i get rid of a lower lip birthmark permanently?', 'Is Magnesium Silicofluoride safe for people?', 'Could RhoGAM damage the baby?', 'Could hydroxychloroquine and methotrexate make me sweat? ', 'Is there a relationship between Gadolinium and Multiple Chemical Sensitivity?']\n"
     ]
    }
   ],
   "source": [
    "import json\n",
    "import os\n",
    "\n",
    "# Directory containing your JSONL format text files\n",
    "folder_name = '/data/chq/generated_files'\n",
    "next_folder_name = '4_output_similar_samples'\n",
    "\n",
    "\n",
    "# Join the folder and file names to create a full path\n",
    "directory = os.path.join(folder_name, next_folder_name)\n",
    "\n",
    "# List to store all targets\n",
    "all_targets = []\n",
    "\n",
    "# Find all files in the directory that match the pattern 'similar_samples_<number>.txt'\n",
    "file_list = [filename for filename in os.listdir(directory) if filename.startswith('similar_samples_') and filename.endswith('.txt')]\n",
    "\n",
    "# Sort the file list based on the numeric part\n",
    "file_list.sort(key=lambda x: int(x.split('_')[2].split('.')[0]))\n",
    "\n",
    "# Iterate through each file in the sorted list\n",
    "for filename in file_list:\n",
    "    file_path = os.path.join(directory, filename)\n",
    "    # Open the file and read line by line\n",
    "    with open(file_path, 'r', encoding='utf-8') as file:\n",
    "        for line in file:\n",
    "            # Parse each line as JSON\n",
    "            json_obj = json.loads(line)\n",
    "            \n",
    "            # Check if the object is of type 'TEST_ENTRY'\n",
    "            if json_obj[\"type\"] == \"TEST_ENTRY\":\n",
    "                # Extract the 'target' part\n",
    "                target_text = json_obj[\"data\"][\"target\"]\n",
    "                # Append to the list of all targets\n",
    "                all_targets.append(target_text)\n",
    "\n",
    "# Print or use `all_targets` as needed\n",
    "print(\"Total targets extracted:\", len(all_targets))\n",
    "print(\"Example targets:\", all_targets[:5])  # Print first 5 targets as an example\n"
   ]
  },
  {
   "cell_type": "code",
   "execution_count": 14,
   "metadata": {},
   "outputs": [],
   "source": [
    "reference_summaries = all_targets"
   ]
  },
  {
   "cell_type": "code",
   "execution_count": 17,
   "metadata": {},
   "outputs": [
    {
     "name": "stdout",
     "output_type": "stream",
     "text": [
      "['What treatments can be done for capillary hemangiomas?', 'What are the risk of using magnesium silicofluoride on a rug infested with moths if you are on dialysis?', 'How does Rh positive be affect pregnancy or a child?', 'Can hydroxychloroquine (Plaquenil) cause excessive sweating (hyperhidrosis)?', 'What negative effects can gadolinium have on people with chronic illnesses, and how can they counteract the symptoms they experience?']\n"
     ]
    }
   ],
   "source": [
    "# File containing generated summaries\n",
    "folder_name = '/data/chq/generated_files'\n",
    "file_name = 'LLaMa2_7b_4_Similar.txt'\n",
    "\n",
    "# Join the folder and file names to create a full path\n",
    "generated_file_path = os.path.join(folder_name, file_name)\n",
    "\n",
    "generated_summaries = []\n",
    "\n",
    "# Read the file and extract summaries from lines divisible by 4 (0-based index)\n",
    "with open(generated_file_path, 'r', encoding='utf-8') as file:\n",
    "    lines = file.readlines()\n",
    "    for i in range(0, len(lines), 3):\n",
    "        generated_summary = lines[i].strip()  # Assuming summary is in the first line of each group\n",
    "        generated_summaries.append(generated_summary)\n",
    "    print(generated_summaries[:5])"
   ]
  },
  {
   "cell_type": "code",
   "execution_count": 18,
   "metadata": {},
   "outputs": [
    {
     "name": "stdout",
     "output_type": "stream",
     "text": [
      "Global ROUGE scores:\n",
      "ROUGE-1: 0.24909179730491526\n",
      "ROUGE-2: 0.0776034490571044\n",
      "ROUGE-L: 0.2238668130718674\n"
     ]
    }
   ],
   "source": [
    "global_rouge_scores = calculate_rouge(generated_summaries, reference_summaries)\n",
    "print(\"Global ROUGE scores:\")\n",
    "# print(f\"ROUGE-1: {global_rouge_scores['rouge1'].mid.fmeasure}\")\n",
    "# print(f\"ROUGE-2: {global_rouge_scores['rouge2'].mid.fmeasure}\")\n",
    "# print(f\"ROUGE-L: {global_rouge_scores['rougeL'].mid.fmeasure}\")\n",
    "\n",
    "print(f\"ROUGE-1: {global_rouge_scores['rouge1'].mid.fmeasure}\")\n",
    "print(f\"ROUGE-2: {global_rouge_scores['rouge2'].mid.fmeasure}\")\n",
    "print(f\"ROUGE-L: {global_rouge_scores['rougeL'].mid.fmeasure}\")"
   ]
  },
  {
   "cell_type": "markdown",
   "metadata": {},
   "source": [
    "8_SIMILAR"
   ]
  },
  {
   "cell_type": "code",
   "execution_count": 19,
   "metadata": {},
   "outputs": [],
   "source": [
    "# File containing generated summaries\n",
    "folder_name = '/data/chq/generated_files'\n",
    "file_name = 'LLaMa2_7b_8_Similar.txt'\n",
    "\n",
    "# Join the folder and file names to create a full path\n",
    "generated_file_path = os.path.join(folder_name, file_name)\n",
    "\n",
    "generated_summaries = []\n",
    "\n",
    "# Read the file and extract summaries from lines divisible by 4 (0-based index)\n",
    "with open(generated_file_path, 'r', encoding='utf-8') as file:\n",
    "    lines = file.readlines()\n",
    "    for i in range(0, len(lines), 3):\n",
    "        generated_summary = lines[i].strip()  # Assuming summary is in the first line of each group\n",
    "        generated_summaries.append(generated_summary)\n"
   ]
  },
  {
   "cell_type": "code",
   "execution_count": 20,
   "metadata": {},
   "outputs": [
    {
     "name": "stdout",
     "output_type": "stream",
     "text": [
      "Global ROUGE scores:\n",
      "ROUGE-1: 0.26792311610295294\n",
      "ROUGE-2: 0.08924701974592184\n",
      "ROUGE-L: 0.2440856154795826\n"
     ]
    }
   ],
   "source": [
    "global_rouge_scores = calculate_rouge(generated_summaries, reference_summaries)\n",
    "print(\"Global ROUGE scores:\")\n",
    "# print(f\"ROUGE-1: {global_rouge_scores['rouge1'].mid.fmeasure}\")\n",
    "# print(f\"ROUGE-2: {global_rouge_scores['rouge2'].mid.fmeasure}\")\n",
    "# print(f\"ROUGE-L: {global_rouge_scores['rougeL'].mid.fmeasure}\")\n",
    "\n",
    "print(f\"ROUGE-1: {global_rouge_scores['rouge1'].mid.fmeasure}\")\n",
    "print(f\"ROUGE-2: {global_rouge_scores['rouge2'].mid.fmeasure}\")\n",
    "print(f\"ROUGE-L: {global_rouge_scores['rougeL'].mid.fmeasure}\")"
   ]
  },
  {
   "cell_type": "markdown",
   "metadata": {},
   "source": [
    "16_SIMILAR"
   ]
  },
  {
   "cell_type": "code",
   "execution_count": 21,
   "metadata": {},
   "outputs": [],
   "source": [
    "# File containing generated summaries\n",
    "folder_name = '/data/chq/generated_files'\n",
    "file_name = 'LLaMa2_7b_16_Similar.txt'\n",
    "\n",
    "# Join the folder and file names to create a full path\n",
    "generated_file_path = os.path.join(folder_name, file_name)\n",
    "\n",
    "generated_summaries = []\n",
    "\n",
    "# Read the file and extract summaries from lines divisible by 4 (0-based index)\n",
    "with open(generated_file_path, 'r', encoding='utf-8') as file:\n",
    "    lines = file.readlines()\n",
    "    for i in range(0, len(lines), 3):\n",
    "        generated_summary = lines[i].strip()  # Assuming summary is in the first line of each group\n",
    "        generated_summaries.append(generated_summary)\n"
   ]
  },
  {
   "cell_type": "code",
   "execution_count": 22,
   "metadata": {},
   "outputs": [
    {
     "name": "stdout",
     "output_type": "stream",
     "text": [
      "Global ROUGE scores:\n",
      "ROUGE-1: 0.3009430994642986\n",
      "ROUGE-2: 0.11472721529390381\n",
      "ROUGE-L: 0.27020402656526005\n"
     ]
    }
   ],
   "source": [
    "global_rouge_scores = calculate_rouge(generated_summaries, reference_summaries)\n",
    "print(\"Global ROUGE scores:\")\n",
    "# print(f\"ROUGE-1: {global_rouge_scores['rouge1'].mid.fmeasure}\")\n",
    "# print(f\"ROUGE-2: {global_rouge_scores['rouge2'].mid.fmeasure}\")\n",
    "# print(f\"ROUGE-L: {global_rouge_scores['rougeL'].mid.fmeasure}\")\n",
    "\n",
    "print(f\"ROUGE-1: {global_rouge_scores['rouge1'].mid.fmeasure}\")\n",
    "print(f\"ROUGE-2: {global_rouge_scores['rouge2'].mid.fmeasure}\")\n",
    "print(f\"ROUGE-L: {global_rouge_scores['rougeL'].mid.fmeasure}\")"
   ]
  },
  {
   "cell_type": "markdown",
   "metadata": {},
   "source": [
    "RANDOM"
   ]
  },
  {
   "cell_type": "markdown",
   "metadata": {},
   "source": [
    "1_RANDOM"
   ]
  },
  {
   "cell_type": "code",
   "execution_count": 56,
   "metadata": {},
   "outputs": [
    {
     "name": "stdout",
     "output_type": "stream",
     "text": [
      "Total targets extracted: 150\n",
      "Example targets: ['How can i get rid of a lower lip birthmark permanently?', 'Is Magnesium Silicofluoride safe for people?', 'Could RhoGAM damage the baby?', 'Could hydroxychloroquine and methotrexate make me sweat? ', 'Is there a relationship between Gadolinium and Multiple Chemical Sensitivity?']\n"
     ]
    }
   ],
   "source": [
    "import json\n",
    "import os\n",
    "\n",
    "# Directory containing your JSONL format text files\n",
    "folder_name = '/data/chq/generated_files'\n",
    "next_folder_name = 'output_random_samples_1'\n",
    "\n",
    "\n",
    "# Join the folder and file names to create a full path\n",
    "directory = os.path.join(folder_name, next_folder_name)\n",
    "\n",
    "# List to store all targets\n",
    "all_targets = []\n",
    "\n",
    "# Find all files in the directory that match the pattern 'similar_samples_<number>.txt'\n",
    "file_list = [filename for filename in os.listdir(directory) if filename.startswith('random_samples_') and filename.endswith('.txt')]\n",
    "\n",
    "# Sort the file list based on the numeric part\n",
    "file_list.sort(key=lambda x: int(x.split('_')[2].split('.')[0]))\n",
    "\n",
    "# Iterate through each file in the sorted list\n",
    "for filename in file_list:\n",
    "    file_path = os.path.join(directory, filename)\n",
    "    # Open the file and read line by line\n",
    "    with open(file_path, 'r', encoding='utf-8') as file:\n",
    "        for line in file:\n",
    "            # Parse each line as JSON\n",
    "            json_obj = json.loads(line)\n",
    "            \n",
    "            # Check if the object is of type 'TEST_ENTRY'\n",
    "            if json_obj[\"type\"] == \"TEST_ENTRY\":\n",
    "                # Extract the 'target' part\n",
    "                target_text = json_obj[\"data\"][\"target\"]\n",
    "                # Append to the list of all targets\n",
    "                all_targets.append(target_text)\n",
    "\n",
    "# Print or use `all_targets` as needed\n",
    "print(\"Total targets extracted:\", len(all_targets))\n",
    "print(\"Example targets:\", all_targets[:5])  # Print first 5 targets as an example\n"
   ]
  },
  {
   "cell_type": "code",
   "execution_count": 57,
   "metadata": {},
   "outputs": [],
   "source": [
    "reference_summaries = all_targets"
   ]
  },
  {
   "cell_type": "code",
   "execution_count": 58,
   "metadata": {},
   "outputs": [],
   "source": [
    "# File containing generated summaries\n",
    "folder_name = '/data/chq/generated_files'\n",
    "file_name = 'LLaMa2_7b_1_Random.txt'\n",
    "\n",
    "# Join the folder and file names to create a full path\n",
    "generated_file_path = os.path.join(folder_name, file_name)\n",
    "\n",
    "generated_summaries = []\n",
    "\n",
    "# Read the file and extract summaries from lines divisible by 4 (0-based index)\n",
    "with open(generated_file_path, 'r', encoding='utf-8') as file:\n",
    "    lines = file.readlines()\n",
    "    for i in range(0, len(lines), 4):\n",
    "        generated_summary = lines[i].strip()  # Assuming summary is in the first line of each group\n",
    "        generated_summaries.append(generated_summary)\n"
   ]
  },
  {
   "cell_type": "code",
   "execution_count": 60,
   "metadata": {},
   "outputs": [
    {
     "name": "stdout",
     "output_type": "stream",
     "text": [
      "Global ROUGE scores:\n",
      "ROUGE-1: 0.31401051537113844\n",
      "ROUGE-2: 0.13227269638599748\n",
      "ROUGE-L: 0.2892941031561056\n"
     ]
    }
   ],
   "source": [
    "global_rouge_scores = calculate_rouge(generated_summaries, reference_summaries)\n",
    "print(\"Global ROUGE scores:\")\n",
    "# print(f\"ROUGE-1: {global_rouge_scores['rouge1'].mid.fmeasure}\")\n",
    "# print(f\"ROUGE-2: {global_rouge_scores['rouge2'].mid.fmeasure}\")\n",
    "# print(f\"ROUGE-L: {global_rouge_scores['rougeL'].mid.fmeasure}\")\n",
    "\n",
    "print(f\"ROUGE-1: {global_rouge_scores['rouge1'].mid.fmeasure}\")\n",
    "print(f\"ROUGE-2: {global_rouge_scores['rouge2'].mid.fmeasure}\")\n",
    "print(f\"ROUGE-L: {global_rouge_scores['rougeL'].mid.fmeasure}\")"
   ]
  },
  {
   "cell_type": "markdown",
   "metadata": {},
   "source": [
    "2_RANDOM\n"
   ]
  },
  {
   "cell_type": "code",
   "execution_count": 61,
   "metadata": {},
   "outputs": [
    {
     "name": "stdout",
     "output_type": "stream",
     "text": [
      "Total targets extracted: 150\n",
      "Example targets: ['How can i get rid of a lower lip birthmark permanently?', 'Is Magnesium Silicofluoride safe for people?', 'Could RhoGAM damage the baby?', 'Could hydroxychloroquine and methotrexate make me sweat? ', 'Is there a relationship between Gadolinium and Multiple Chemical Sensitivity?']\n"
     ]
    }
   ],
   "source": [
    "import json\n",
    "import os\n",
    "\n",
    "# Directory containing your JSONL format text files\n",
    "folder_name = '/data/chq/generated_files'\n",
    "next_folder_name = 'output_random_samples_2'\n",
    "\n",
    "\n",
    "# Join the folder and file names to create a full path\n",
    "directory = os.path.join(folder_name, next_folder_name)\n",
    "\n",
    "# List to store all targets\n",
    "all_targets = []\n",
    "\n",
    "# Find all files in the directory that match the pattern 'similar_samples_<number>.txt'\n",
    "file_list = [filename for filename in os.listdir(directory) if filename.startswith('random_samples_') and filename.endswith('.txt')]\n",
    "\n",
    "# Sort the file list based on the numeric part\n",
    "file_list.sort(key=lambda x: int(x.split('_')[2].split('.')[0]))\n",
    "\n",
    "# Iterate through each file in the sorted list\n",
    "for filename in file_list:\n",
    "    file_path = os.path.join(directory, filename)\n",
    "    # Open the file and read line by line\n",
    "    with open(file_path, 'r', encoding='utf-8') as file:\n",
    "        for line in file:\n",
    "            # Parse each line as JSON\n",
    "            json_obj = json.loads(line)\n",
    "            \n",
    "            # Check if the object is of type 'TEST_ENTRY'\n",
    "            if json_obj[\"type\"] == \"TEST_ENTRY\":\n",
    "                # Extract the 'target' part\n",
    "                target_text = json_obj[\"data\"][\"target\"]\n",
    "                # Append to the list of all targets\n",
    "                all_targets.append(target_text)\n",
    "\n",
    "# Print or use `all_targets` as needed\n",
    "print(\"Total targets extracted:\", len(all_targets))\n",
    "print(\"Example targets:\", all_targets[:5])  # Print first 5 targets as an example"
   ]
  },
  {
   "cell_type": "code",
   "execution_count": 62,
   "metadata": {},
   "outputs": [],
   "source": [
    "reference_summaries = all_targets"
   ]
  },
  {
   "cell_type": "code",
   "execution_count": 63,
   "metadata": {},
   "outputs": [],
   "source": [
    "# File containing generated summaries\n",
    "folder_name = '/data/chq/generated_files'\n",
    "file_name = 'LLaMa2_7b_2_Random.txt'\n",
    "\n",
    "# Join the folder and file names to create a full path\n",
    "generated_file_path = os.path.join(folder_name, file_name)\n",
    "\n",
    "generated_summaries = []\n",
    "\n",
    "# Read the file and extract summaries from lines divisible by 4 (0-based index)\n",
    "with open(generated_file_path, 'r', encoding='utf-8') as file:\n",
    "    lines = file.readlines()\n",
    "    for i in range(0, len(lines), 4):\n",
    "        generated_summary = lines[i].strip()  # Assuming summary is in the first line of each group\n",
    "        generated_summaries.append(generated_summary)"
   ]
  },
  {
   "cell_type": "code",
   "execution_count": 64,
   "metadata": {},
   "outputs": [
    {
     "name": "stdout",
     "output_type": "stream",
     "text": [
      "Global ROUGE scores:\n",
      "ROUGE-1: 0.3193873396278407\n",
      "ROUGE-2: 0.13574509114282995\n",
      "ROUGE-L: 0.2997641654984415\n"
     ]
    }
   ],
   "source": [
    "global_rouge_scores = calculate_rouge(generated_summaries, reference_summaries)\n",
    "print(\"Global ROUGE scores:\")\n",
    "# print(f\"ROUGE-1: {global_rouge_scores['rouge1'].mid.fmeasure}\")\n",
    "# print(f\"ROUGE-2: {global_rouge_scores['rouge2'].mid.fmeasure}\")\n",
    "# print(f\"ROUGE-L: {global_rouge_scores['rougeL'].mid.fmeasure}\")\n",
    "\n",
    "print(f\"ROUGE-1: {global_rouge_scores['rouge1'].mid.fmeasure}\")\n",
    "print(f\"ROUGE-2: {global_rouge_scores['rouge2'].mid.fmeasure}\")\n",
    "print(f\"ROUGE-L: {global_rouge_scores['rougeL'].mid.fmeasure}\")"
   ]
  },
  {
   "cell_type": "markdown",
   "metadata": {},
   "source": [
    "4_RANDOM"
   ]
  },
  {
   "cell_type": "code",
   "execution_count": 67,
   "metadata": {},
   "outputs": [],
   "source": [
    "# File containing generated summaries\n",
    "folder_name = '/data/chq/generated_files'\n",
    "file_name = 'LLaMa2_7b_4_Random.txt'\n",
    "\n",
    "# Join the folder and file names to create a full path\n",
    "generated_file_path = os.path.join(folder_name, file_name)\n",
    "\n",
    "generated_summaries = []\n",
    "\n",
    "# Read the file and extract summaries from lines divisible by 4 (0-based index)\n",
    "with open(generated_file_path, 'r', encoding='utf-8') as file:\n",
    "    lines = file.readlines()\n",
    "    for i in range(0, len(lines), 4):\n",
    "        generated_summary = lines[i].strip()  # Assuming summary is in the first line of each group\n",
    "        generated_summaries.append(generated_summary)"
   ]
  },
  {
   "cell_type": "code",
   "execution_count": 68,
   "metadata": {},
   "outputs": [
    {
     "name": "stdout",
     "output_type": "stream",
     "text": [
      "Global ROUGE scores:\n",
      "ROUGE-1: 0.3441772929235184\n",
      "ROUGE-2: 0.1443364405013947\n",
      "ROUGE-L: 0.3245004213371783\n"
     ]
    }
   ],
   "source": [
    "global_rouge_scores = calculate_rouge(generated_summaries, reference_summaries)\n",
    "print(\"Global ROUGE scores:\")\n",
    "# print(f\"ROUGE-1: {global_rouge_scores['rouge1'].mid.fmeasure}\")\n",
    "# print(f\"ROUGE-2: {global_rouge_scores['rouge2'].mid.fmeasure}\")\n",
    "# print(f\"ROUGE-L: {global_rouge_scores['rougeL'].mid.fmeasure}\")\n",
    "\n",
    "print(f\"ROUGE-1: {global_rouge_scores['rouge1'].mid.fmeasure}\")\n",
    "print(f\"ROUGE-2: {global_rouge_scores['rouge2'].mid.fmeasure}\")\n",
    "print(f\"ROUGE-L: {global_rouge_scores['rougeL'].mid.fmeasure}\")"
   ]
  },
  {
   "cell_type": "markdown",
   "metadata": {},
   "source": [
    "8_RANDOM"
   ]
  },
  {
   "cell_type": "code",
   "execution_count": 69,
   "metadata": {},
   "outputs": [],
   "source": [
    "# File containing generated summaries\n",
    "folder_name = '/data/chq/generated_files'\n",
    "file_name = 'LLaMa2_7b_8_Raandom.txt'\n",
    "\n",
    "# Join the folder and file names to create a full path\n",
    "generated_file_path = os.path.join(folder_name, file_name)\n",
    "\n",
    "generated_summaries = []\n",
    "\n",
    "# Read the file and extract summaries from lines divisible by 4 (0-based index)\n",
    "with open(generated_file_path, 'r', encoding='utf-8') as file:\n",
    "    lines = file.readlines()\n",
    "    for i in range(0, len(lines), 4):\n",
    "        generated_summary = lines[i].strip()  # Assuming summary is in the first line of each group\n",
    "        generated_summaries.append(generated_summary)"
   ]
  },
  {
   "cell_type": "code",
   "execution_count": 70,
   "metadata": {},
   "outputs": [
    {
     "name": "stdout",
     "output_type": "stream",
     "text": [
      "Global ROUGE scores:\n",
      "ROUGE-1: 0.3287149736552006\n",
      "ROUGE-2: 0.14378295288525428\n",
      "ROUGE-L: 0.3101686167163632\n"
     ]
    }
   ],
   "source": [
    "global_rouge_scores = calculate_rouge(generated_summaries, reference_summaries)\n",
    "print(\"Global ROUGE scores:\")\n",
    "# print(f\"ROUGE-1: {global_rouge_scores['rouge1'].mid.fmeasure}\")\n",
    "# print(f\"ROUGE-2: {global_rouge_scores['rouge2'].mid.fmeasure}\")\n",
    "# print(f\"ROUGE-L: {global_rouge_scores['rougeL'].mid.fmeasure}\")\n",
    "\n",
    "print(f\"ROUGE-1: {global_rouge_scores['rouge1'].mid.fmeasure}\")\n",
    "print(f\"ROUGE-2: {global_rouge_scores['rouge2'].mid.fmeasure}\")\n",
    "print(f\"ROUGE-L: {global_rouge_scores['rougeL'].mid.fmeasure}\")"
   ]
  },
  {
   "cell_type": "markdown",
   "metadata": {},
   "source": [
    "16_RANDOM"
   ]
  },
  {
   "cell_type": "code",
   "execution_count": 71,
   "metadata": {},
   "outputs": [],
   "source": [
    "# File containing generated summaries\n",
    "folder_name = '/data/chq/generated_files'\n",
    "file_name = 'LLaMa2_7b_16_Random.txt'\n",
    "\n",
    "# Join the folder and file names to create a full path\n",
    "generated_file_path = os.path.join(folder_name, file_name)\n",
    "\n",
    "generated_summaries = []\n",
    "\n",
    "# Read the file and extract summaries from lines divisible by 4 (0-based index)\n",
    "with open(generated_file_path, 'r', encoding='utf-8') as file:\n",
    "    lines = file.readlines()\n",
    "    for i in range(0, len(lines), 4):\n",
    "        generated_summary = lines[i].strip()  # Assuming summary is in the first line of each group\n",
    "        generated_summaries.append(generated_summary)"
   ]
  },
  {
   "cell_type": "code",
   "execution_count": 72,
   "metadata": {},
   "outputs": [
    {
     "name": "stdout",
     "output_type": "stream",
     "text": [
      "Global ROUGE scores:\n",
      "ROUGE-1: 0.33858689466538217\n",
      "ROUGE-2: 0.15527660512025004\n",
      "ROUGE-L: 0.3223868975620498\n"
     ]
    }
   ],
   "source": [
    "global_rouge_scores = calculate_rouge(generated_summaries, reference_summaries)\n",
    "print(\"Global ROUGE scores:\")\n",
    "# print(f\"ROUGE-1: {global_rouge_scores['rouge1'].mid.fmeasure}\")\n",
    "# print(f\"ROUGE-2: {global_rouge_scores['rouge2'].mid.fmeasure}\")\n",
    "# print(f\"ROUGE-L: {global_rouge_scores['rougeL'].mid.fmeasure}\")\n",
    "\n",
    "print(f\"ROUGE-1: {global_rouge_scores['rouge1'].mid.fmeasure}\")\n",
    "print(f\"ROUGE-2: {global_rouge_scores['rouge2'].mid.fmeasure}\")\n",
    "print(f\"ROUGE-L: {global_rouge_scores['rougeL'].mid.fmeasure}\")"
   ]
  },
  {
   "cell_type": "code",
   "execution_count": null,
   "metadata": {},
   "outputs": [],
   "source": []
  }
 ],
 "metadata": {
  "kernelspec": {
   "display_name": "Python 3",
   "language": "python",
   "name": "python3"
  },
  "language_info": {
   "codemirror_mode": {
    "name": "ipython",
    "version": 3
   },
   "file_extension": ".py",
   "mimetype": "text/x-python",
   "name": "python",
   "nbconvert_exporter": "python",
   "pygments_lexer": "ipython3",
   "version": "3.8.19"
  }
 },
 "nbformat": 4,
 "nbformat_minor": 2
}
